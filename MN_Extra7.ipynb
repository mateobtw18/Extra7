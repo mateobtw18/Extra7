{
 "cells": [
  {
   "cell_type": "raw",
   "metadata": {},
   "source": [
    "---\n",
    "title: \"Formatters en Python\"\n",
    "author: \"Mateo Cumbal\"\n",
    "date: \"Noviembre 30, 2024\"\n",
    "lang: es\n",
    "format:\n",
    "  pdf:\n",
    "        number-sections: true\n",
    "        paginate: true\n",
    "        toc: true\n",
    "        links-color: blue\n",
    "        toc-title: \"Tabla de Contenidos\"  \n",
    "        tables: true\n",
    "        table-width: full\n",
    "        images-centered: true\n",
    "        highlight-style: tango\n",
    "execute:\n",
    "  echo: true\n",
    "  error: false\n",
    "  warning: false\n",
    "code-fold: true\n",
    "jupyter: python3\n",
    "---"
   ]
  },
  {
   "cell_type": "markdown",
   "metadata": {},
   "source": [
    "# Código Original"
   ]
  },
  {
   "cell_type": "markdown",
   "metadata": {},
   "source": [
    "El código proporcionado presenta varias malas prácticas de estilo de programación y convenciones de Python:\n",
    "\n",
    "**1.** Falta de indentación consistente\n",
    "\n",
    "**2.** Líneas demasiado largas\n",
    "\n",
    "**3.** Espacios alrededor de operadores\n",
    "\n",
    "**4.** Uso inconsistente de paréntesis\n",
    "\n",
    "**5.** No separación entre bloques de código"
   ]
  },
  {
   "cell_type": "code",
   "execution_count": null,
   "metadata": {},
   "outputs": [],
   "source": [
    "import math\n",
    "import sympy\n",
    "import matplotlib.pyplot as plt\n",
    "\n",
    "def cubic_spline(xs: list[float], ys: list[float]) -> list[sympy.Symbol]:\n",
    "  points = zip(xs,ys)\n",
    "  n = len(xs)-1 \n",
    "  h=[xs[i+1]-xs[i] for i in range(n)]\n",
    "  alpha=[0]*(n)\n",
    "  for i in range(1, n): alpha[i]=(3/h[i])* (ys[i+1]-ys[i]) - (3/h[i-1])*(ys[i]-ys[i-1])\n",
    "  l=[1]+[0]*n\n",
    "  u=[0]*n\n",
    "  z=[0]*(n+1)\n",
    "  for i in range(1,n):\n",
    "    l[i]=2*(xs[i+1]-xs[i-1])-h[i-1]*u[i-1]\n",
    "    u[i]=h[i]/l[i]\n",
    "    z[i]=(alpha[i]-h[i-1]*z[i-1])/l[i]\n",
    "  l[n]=1\n",
    "  z[n]=0\n",
    "  c=[0]*(n+1)\n",
    "  b=[0]*n\n",
    "  d=[0]*n\n",
    "  a=[ys[i] for i in range(n)]\n",
    "  x=sympy.Symbol('x')\n",
    "  splines=[]\n",
    "  for j in range(n-1,-1,-1):\n",
    "    c[j]=z[j]-u[j]*c[j+1]\n",
    "    b[j]=(ys[j+1]-ys[j])/h[j]-h[j]*(c[j+1]+2*c[j])/3\n",
    "    d[j]=(c[j+1]-c[j])/(3*h[j])\n",
    "    a[j]=ys[j]\n",
    "    S=(a[j]+b[j]*(x-xs[j])+c[j]*(x-xs[j])**2+d[j]*(x-xs[j])**3)\n",
    "    splines.append(S)\n",
    "  splines.reverse()\n",
    "  return splines"
   ]
  },
  {
   "cell_type": "markdown",
   "metadata": {},
   "source": [
    "# Black"
   ]
  },
  {
   "cell_type": "markdown",
   "metadata": {},
   "source": [
    "> Black es un formateador de código “opinado”, lo que significa que toma decisiones de formato por ti. Su principal objetivo es hacer que el código sea consistente sin necesidad de configuraciones adicionales. Black se encarga de que el código siga un conjunto de **reglas estrictas** y lo formatea de una forma predeterminada.\n",
    "\n",
    "- Líneas con un máximo de 88 caracteres.\n",
    "  \n",
    "- Añade espacios alrededor de operadores binarios.\n",
    "  \n",
    "- Prefiere comillas dobles para las cadenas.\n",
    "\n",
    "- Usa una indentación de 4 espacios.\n",
    "  \n",
    "- Proporciona un estilo muy rígido, eliminando cualquier ambigüedad sobre el formato."
   ]
  },
  {
   "cell_type": "code",
   "execution_count": null,
   "metadata": {},
   "outputs": [],
   "source": [
    "import math\n",
    "import sympy\n",
    "import matplotlib.pyplot as plt\n",
    "\n",
    "\n",
    "def cubic_spline(xs: list[float], ys: list[float]) -> list[sympy.Symbol]:\n",
    "    points = zip(xs, ys)\n",
    "    n = len(xs) - 1\n",
    "    h = [xs[i + 1] - xs[i] for i in range(n)]\n",
    "    alpha = [0] * (n)\n",
    "    for i in range(1, n):\n",
    "        alpha[i] = (3 / h[i]) * (ys[i + 1] - ys[i]) - (3 / h[i - 1]) * (\n",
    "            ys[i] - ys[i - 1]\n",
    "        )\n",
    "    l = [1] + [0] * n\n",
    "    u = [0] * n\n",
    "    z = [0] * (n + 1)\n",
    "    for i in range(1, n):\n",
    "        l[i] = 2 * (xs[i + 1] - xs[i - 1]) - h[i - 1] * u[i - 1]\n",
    "        u[i] = h[i] / l[i]\n",
    "        z[i] = (alpha[i] - h[i - 1] * z[i - 1]) / l[i]\n",
    "    l[n] = 1\n",
    "    z[n] = 0\n",
    "    c = [0] * (n + 1)\n",
    "    b = [0] * n\n",
    "    d = [0] * n\n",
    "    a = [ys[i] for i in range(n)]\n",
    "    x = sympy.Symbol(\"x\")\n",
    "    splines = []\n",
    "    for j in range(n - 1, -1, -1):\n",
    "        c[j] = z[j] - u[j] * c[j + 1]\n",
    "        b[j] = (ys[j + 1] - ys[j]) / h[j] - h[j] * (c[j + 1] + 2 * c[j]) / 3\n",
    "        d[j] = (c[j + 1] - c[j]) / (3 * h[j])\n",
    "        a[j] = ys[j]\n",
    "        S = (\n",
    "            a[j]\n",
    "            + b[j] * (x - xs[j])\n",
    "            + c[j] * (x - xs[j]) ** 2\n",
    "            + d[j] * (x - xs[j]) ** 3\n",
    "        )\n",
    "        splines.append(S)\n",
    "    splines.reverse()\n",
    "    return splines"
   ]
  },
  {
   "cell_type": "markdown",
   "metadata": {},
   "source": [
    "# Autopep8"
   ]
  },
  {
   "cell_type": "markdown",
   "metadata": {},
   "source": [
    "> Autopep8 es un formateador automático que ajusta el código según las recomendaciones de PEP 8. Es un formateador más flexible que Black, ya que no impone tantas reglas y permite configuraciones.\n",
    "\n",
    "- Aplica las reglas de PEP 8, pero de manera menos estricta que Black.\n",
    "  \n",
    "- Corrige los errores más comunes como líneas demasiado largas, indentación incorrecta, entre otros.\n",
    "\n",
    "- Permite configuraciones personalizadas a través de parámetros."
   ]
  },
  {
   "cell_type": "code",
   "execution_count": null,
   "metadata": {},
   "outputs": [],
   "source": [
    "import math\n",
    "import sympy\n",
    "import matplotlib.pyplot as plt\n",
    "\n",
    "\n",
    "def cubic_spline(xs: list[float], ys: list[float]) -> list[sympy.Symbol]:\n",
    "    points = zip(xs, ys)\n",
    "    n = len(xs)-1\n",
    "    h = [xs[i+1]-xs[i] for i in range(n)]\n",
    "    alpha = [0]*(n)\n",
    "    for i in range(1, n):\n",
    "        alpha[i] = (3/h[i]) * (ys[i+1]-ys[i]) - (3/h[i-1])*(ys[i]-ys[i-1])\n",
    "    l = [1]+[0]*n\n",
    "    u = [0]*n\n",
    "    z = [0]*(n+1)\n",
    "    for i in range(1, n):\n",
    "        l[i] = 2*(xs[i+1]-xs[i-1])-h[i-1]*u[i-1]\n",
    "        u[i] = h[i]/l[i]\n",
    "        z[i] = (alpha[i]-h[i-1]*z[i-1])/l[i]\n",
    "    l[n] = 1\n",
    "    z[n] = 0\n",
    "    c = [0]*(n+1)\n",
    "    b = [0]*n\n",
    "    d = [0]*n\n",
    "    a = [ys[i] for i in range(n)]\n",
    "    x = sympy.Symbol('x')\n",
    "    splines = []\n",
    "    for j in range(n-1, -1, -1):\n",
    "        c[j] = z[j]-u[j]*c[j+1]\n",
    "        b[j] = (ys[j+1]-ys[j])/h[j]-h[j]*(c[j+1]+2*c[j])/3\n",
    "        d[j] = (c[j+1]-c[j])/(3*h[j])\n",
    "        a[j] = ys[j]\n",
    "        S = (a[j]+b[j]*(x-xs[j])+c[j]*(x-xs[j])**2+d[j]*(x-xs[j])**3)\n",
    "        splines.append(S)\n",
    "    splines.reverse()\n",
    "    return splines"
   ]
  },
  {
   "cell_type": "markdown",
   "metadata": {},
   "source": [
    "# Yapf"
   ]
  },
  {
   "cell_type": "markdown",
   "metadata": {},
   "source": [
    "> YAPF (Yet Another Python Formatter) trata de formatear el código de manera similar a cómo lo haría un programador que sigue las recomendaciones de PEP 8. Se basa en una versión modificada de las reglas de PEP 8.\n",
    "\n",
    "- Similar a Autopep8 pero con más flexibilidad en cuanto al estilo general.\n",
    "\n",
    "- Intenta mantener el formato original tanto como sea posible, pero corrige las violaciones de PEP 8.\n",
    "\n",
    "- Se puede configurar para que siga reglas específicas más allá de PEP 8."
   ]
  },
  {
   "cell_type": "code",
   "execution_count": null,
   "metadata": {},
   "outputs": [],
   "source": [
    "import math\n",
    "import sympy\n",
    "import matplotlib.pyplot as plt\n",
    "\n",
    "\n",
    "def cubic_spline(xs: list[float], ys: list[float]) -> list[sympy.Symbol]:\n",
    "    points = zip(xs, ys)\n",
    "    n = len(xs) - 1\n",
    "    h = [xs[i + 1] - xs[i] for i in range(n)]\n",
    "    alpha = [0] * (n)\n",
    "    for i in range(1, n):\n",
    "        alpha[i] = (3 / h[i]) * (ys[i + 1] -\n",
    "                                 ys[i]) - (3 / h[i - 1]) * (ys[i] - ys[i - 1])\n",
    "    l = [1] + [0] * n\n",
    "    u = [0] * n\n",
    "    z = [0] * (n + 1)\n",
    "    for i in range(1, n):\n",
    "        l[i] = 2 * (xs[i + 1] - xs[i - 1]) - h[i - 1] * u[i - 1]\n",
    "        u[i] = h[i] / l[i]\n",
    "        z[i] = (alpha[i] - h[i - 1] * z[i - 1]) / l[i]\n",
    "    l[n] = 1\n",
    "    z[n] = 0\n",
    "    c = [0] * (n + 1)\n",
    "    b = [0] * n\n",
    "    d = [0] * n\n",
    "    a = [ys[i] for i in range(n)]\n",
    "    x = sympy.Symbol('x')\n",
    "    splines = []\n",
    "    for j in range(n - 1, -1, -1):\n",
    "        c[j] = z[j] - u[j] * c[j + 1]\n",
    "        b[j] = (ys[j + 1] - ys[j]) / h[j] - h[j] * (c[j + 1] + 2 * c[j]) / 3\n",
    "        d[j] = (c[j + 1] - c[j]) / (3 * h[j])\n",
    "        a[j] = ys[j]\n",
    "        S = (a[j] + b[j] * (x - xs[j]) + c[j] * (x - xs[j])**2 + d[j] *\n",
    "             (x - xs[j])**3)\n",
    "        splines.append(S)\n",
    "    splines.reverse()\n",
    "    return splines\n"
   ]
  },
  {
   "cell_type": "markdown",
   "metadata": {},
   "source": [
    "# Ruff"
   ]
  },
  {
   "cell_type": "markdown",
   "metadata": {},
   "source": [
    "> Ruff es un formateador basado en Flake8 y optimizado para ser muy rápido. Además de formatear el código, puede detectar errores de estilo, posibles problemas de código y mal uso de las convenciones.\n",
    "\n",
    "- Muy rápido y eficiente, adecuado para proyectos grandes.\n",
    "\n",
    "- Está diseñado no solo para formatear, sino también para detectar problemas de estilo y errores comunes.\n",
    "\n",
    "- Se basa en Flake8, lo que le permite ser más analítico sobre el código."
   ]
  },
  {
   "cell_type": "code",
   "execution_count": null,
   "metadata": {},
   "outputs": [],
   "source": [
    "import sympy as sym\n",
    "from IPython.display import display\n",
    "\n",
    "\n",
    "def cubic_spline(xs: list[float], ys: list[float]) -> list[sym.Symbol]:\n",
    "    points = sorted(zip(xs, ys), key=lambda x: x[0])  # Sort points by x\n",
    "    xs = [x for x, _ in points]\n",
    "    ys = [y for _, y in points]\n",
    "\n",
    "    n = len(points) - 1\n",
    "    h = [xs[i + 1] - xs[i] for i in range(n)]\n",
    "\n",
    "    alpha = [0] * (n)\n",
    "    for i in range(1, n):\n",
    "        alpha[i] = 3 / h[i] * (ys[i + 1] - ys[i]) - 3 / h[i - 1] * (ys[i] - ys[i - 1])\n",
    "\n",
    "    l = [1] + [0] * n\n",
    "    u = [0] * n\n",
    "    z = [0] * (n + 1)\n",
    "\n",
    "    for i in range(1, n):\n",
    "        l[i] = 2 * (xs[i + 1] - xs[i - 1]) - h[i - 1] * u[i - 1]\n",
    "        u[i] = h[i] / l[i]\n",
    "        z[i] = (alpha[i] - h[i - 1] * z[i - 1]) / l[i]\n",
    "\n",
    "    l[n] = 1\n",
    "    z[n] = 0\n",
    "\n",
    "    c = [0] * (n + 1)\n",
    "    b = [0] * n\n",
    "    d = [0] * n\n",
    "    a = [ys[i] for i in range(n)]\n",
    "\n",
    "    x = sym.Symbol(\"x\")\n",
    "    splines = []\n",
    "\n",
    "    for j in range(n - 1, -1, -1):\n",
    "        c[j] = z[j] - u[j] * c[j + 1]\n",
    "        b[j] = (ys[j + 1] - ys[j]) / h[j] - h[j] * (c[j + 1] + 2 * c[j]) / 3\n",
    "        d[j] = (c[j + 1] - c[j]) / (3 * h[j])\n",
    "        a[j] = ys[j]\n",
    "\n",
    "        S = (\n",
    "            a[j]\n",
    "            + b[j] * (x - xs[j])\n",
    "            + c[j] * (x - xs[j]) ** 2\n",
    "            + d[j] * (x - xs[j]) ** 3\n",
    "        )\n",
    "        splines.append(S)\n",
    "\n",
    "    splines.reverse()\n",
    "    return splines"
   ]
  },
  {
   "cell_type": "markdown",
   "metadata": {},
   "source": [
    "# Comparación Final"
   ]
  },
  {
   "cell_type": "markdown",
   "metadata": {},
   "source": [
    "| **Característica**       | **Black**                          | **Autopep8**                    | **YAPF**                        | **Ruff**                      |\n",
    "|----------------------|------------------------------------|---------------------------------|---------------------------------|-------------------------------|\n",
    "| **Objetivo**          | Formateo estricto y automático.    | Cumple con PEP 8, pero es flexible. | Basado en PEP 8, pero flexible. | Formatea y detecta errores.   |\n",
    "| **Reglas**            | Muy estrictas, pocas configuraciones. | Flexible, permite personalización. | Flexible, pero sigue PEP 8.     | Estricto, con corrección de errores. |\n",
    "| **Longitud de líneas**| Máximo de 88 caracteres.           | Siguiendo PEP 8.                | Depende de la configuración.    | No especifica, similar a PEP 8.|\n",
    "| **Configuración**     | No se requiere, es todo automático. | Configurable, permite ajustes.  | Configurable.                   | Configurable, con enfoque en errores. |\n",
    "| **Flexibilidad**      | Baja, tiene su propio estilo.      | Alta, permite muchas configuraciones. | Alta, pero sigue más de cerca PEP 8. | Baja en formato, pero flexible en detección de errores. |\n",
    "| **Rendimiento**       | Muy rápido, optimizado.            | Rápido.                         | Moderado.                       | Muy rápido, optimizado.       |\n"
   ]
  },
  {
   "cell_type": "markdown",
   "metadata": {},
   "source": [
    "# Conclusión"
   ]
  },
  {
   "cell_type": "markdown",
   "metadata": {},
   "source": [
    "Personalmente, me quedo con Ruff. :)"
   ]
  },
  {
   "cell_type": "markdown",
   "metadata": {},
   "source": [
    "**GitHub:** [Actividad Extra 7 - @mateobtw18](https://github.com/mateobtw18/Extra7)"
   ]
  }
 ],
 "metadata": {
  "kernelspec": {
   "display_name": "Python 3 (ipykernel)",
   "language": "python",
   "name": "python3"
  },
  "language_info": {
   "codemirror_mode": {
    "name": "ipython",
    "version": 3
   },
   "file_extension": ".py",
   "mimetype": "text/x-python",
   "name": "python",
   "nbconvert_exporter": "python",
   "pygments_lexer": "ipython3",
   "version": "3.12.4"
  }
 },
 "nbformat": 4,
 "nbformat_minor": 4
}
